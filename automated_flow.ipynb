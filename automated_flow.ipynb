{
  "nbformat": 4,
  "nbformat_minor": 0,
  "metadata": {
    "colab": {
      "name": "automated_flow.ipynb",
      "provenance": [],
      "collapsed_sections": [],
      "authorship_tag": "ABX9TyM9wA3U7+hw9gXCe7c/WCmW",
      "include_colab_link": true
    },
    "kernelspec": {
      "name": "python3",
      "display_name": "Python 3"
    },
    "language_info": {
      "name": "python"
    }
  },
  "cells": [
    {
      "cell_type": "markdown",
      "metadata": {
        "id": "view-in-github",
        "colab_type": "text"
      },
      "source": [
        "<a href=\"https://colab.research.google.com/github/omarelsebaey002/test01/blob/main/automated_flow.ipynb\" target=\"_parent\"><img src=\"https://colab.research.google.com/assets/colab-badge.svg\" alt=\"Open In Colab\"/></a>"
      ]
    },
    {
      "cell_type": "markdown",
      "source": [
        "**How to run**\n",
        "\n",
        "\n",
        "1.   Upload helper.py to a folder on the drive\n",
        "      *   For example create a folder called \"trading app\" and then upload the helper.py to this folder\n",
        "\n",
        "\n",
        "2. Set the path to the helper.py in the next cell in this line \n",
        "      * sys.path.append('/content/drive/MyDrive/trading_app')\n",
        "\n",
        "3. For single run \n",
        "      * Set the variables as elaborated in the cell#2\n",
        "\n",
        "4. For multi runs with a file containing the input files \n",
        "      * Call the funciton generate_net_threshold_for_multi_runs and pass the file to it like Cell#3\n",
        "      * The columns of the file should have columns names like this : \n",
        "        * input_file,output_file,ticker,start_date,end_date\n"
      ],
      "metadata": {
        "id": "sxK973JUpvmp"
      }
    },
    {
      "cell_type": "code",
      "source": [
        "import os\n",
        "from google.colab import drive\n",
        "import sys\n",
        "sys.path.append('/content/drive/MyDrive/trading_app')\n",
        "from helper import *\n",
        "drive.mount('/content/drive', force_remount=True)"
      ],
      "metadata": {
        "colab": {
          "base_uri": "https://localhost:8080/"
        },
        "id": "pv6iZ1O1NxgW",
        "outputId": "cef9ce08-0e3b-481f-8085-90791797a6a2"
      },
      "execution_count": 4,
      "outputs": [
        {
          "output_type": "stream",
          "name": "stdout",
          "text": [
            "Mounted at /content/drive\n"
          ]
        }
      ]
    },
    {
      "cell_type": "markdown",
      "source": [
        "Single Run example"
      ],
      "metadata": {
        "id": "2fs_gPfzhKvJ"
      }
    },
    {
      "cell_type": "code",
      "source": [
        "outputfile         = '/content/drive/MyDrive/trading_app/net_thr.csv'\n",
        "input_file         = '/content/drive/MyDrive/trading_app/small.csv'\n",
        "START_DATE         = '06-08-21 9:15'\n",
        "END_DATE           = '06-08-21 9:50'\n",
        "TICKER             = \"\"\n",
        "generate_net_threshold(input_file,START_DATE,END_DATE,TICKER,outputfile)"
      ],
      "metadata": {
        "id": "P3MFq4kYOwvV",
        "colab": {
          "base_uri": "https://localhost:8080/"
        },
        "outputId": "2bd2d21c-d31c-40b5-a1bb-8c1c660b6c57"
      },
      "execution_count": 5,
      "outputs": [
        {
          "output_type": "stream",
          "name": "stdout",
          "text": [
            "[INFO] Processing input file: /content/drive/MyDrive/trading_app/small.csv\n",
            "[INFO] Selecting from START_DATE:  2021-08-06 09:15:00\n",
            "[INFO]           to   START_DATE:  2021-08-06 09:50:00\n",
            "[INFO] Found 30 entries matching the selection criteria \n",
            "[INFO] Processing Start...\n",
            "[INFO] Writing the output to: /content/drive/MyDrive/trading_app/net_thr.csv \n",
            "[INFO] FINISHED!\n"
          ]
        }
      ]
    },
    {
      "cell_type": "markdown",
      "source": [
        "Multiple Runs from a csv file "
      ],
      "metadata": {
        "id": "t6_U9CLEhPxc"
      }
    },
    {
      "cell_type": "code",
      "source": [
        "multi_files_input = '/content/drive/MyDrive/trading_app/input_file.csv'\n",
        "generate_net_threshold_for_multi_runs(multi_files_input)"
      ],
      "metadata": {
        "colab": {
          "base_uri": "https://localhost:8080/"
        },
        "id": "zxRC9dExhWC3",
        "outputId": "077f9d54-cb80-4251-b7f6-5668f206db20"
      },
      "execution_count": 6,
      "outputs": [
        {
          "output_type": "stream",
          "name": "stdout",
          "text": [
            "[INFO] Generating for file number:  0\n",
            "[INFO] Processing input file: /content/drive/MyDrive/trading_app/small.csv\n",
            "[INFO] Ticker is set to : BANKNIFTY and Swing will be +/- 300\n",
            "[INFO] Selecting from START_DATE:  2021-08-06 09:15:00\n",
            "[INFO]           to   START_DATE:  2021-08-06 09:31:00\n",
            "[INFO] Found 17 entries matching the selection criteria \n",
            "[INFO] Processing Start...\n",
            "[INFO] Writing the output to: /content/drive/MyDrive/trading_app/net_thr.csv \n",
            "[INFO] FINISHED!\n",
            "[INFO] Generating for file number:  1\n",
            "[INFO] Processing input file: /content/drive/MyDrive/trading_app/small.csv\n",
            "[INFO] Selecting from START_DATE:  2021-08-06 09:15:00\n",
            "[INFO]           to   START_DATE:  2021-08-06 09:31:00\n",
            "[INFO] Found 17 entries matching the selection criteria \n",
            "[INFO] Processing Start...\n",
            "[INFO] Writing the output to: /content/drive/MyDrive/trading_app/net_thr.csv \n",
            "[INFO] FINISHED!\n",
            "[INFO] Generating for file number:  2\n",
            "[INFO] Processing input file: /content/drive/MyDrive/trading_app/small.csv\n",
            "[INFO] Ticker is set to : NIFTY and Swing will be +/- 100\n",
            "[INFO] Selecting from START_DATE:  2021-08-06 09:15:00\n",
            "[INFO]           to   START_DATE:  2021-08-06 09:31:00\n",
            "[INFO] Didn't find any entries matching the selected dates and tickers\n",
            "[INFO] Exiting the generation process for this file\n",
            "[INFO] Finished generating net thresholds for all files\n"
          ]
        }
      ]
    }
  ]
}